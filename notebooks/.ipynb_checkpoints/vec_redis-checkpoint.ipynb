{
 "cells": [
  {
   "cell_type": "markdown",
   "id": "17ac5984-8f2e-4be9-898a-86493aa7cd77",
   "metadata": {},
   "source": [
    "# Interact to Redis db"
   ]
  },
  {
   "cell_type": "code",
   "execution_count": 2,
   "id": "31364c18-1560-4577-a766-acbefc6679b4",
   "metadata": {},
   "outputs": [],
   "source": [
    "import sys\n",
    "import os\n",
    "from langchain.schema import Document\n",
    "from typing import Dict, List\n",
    "import json\n",
    "from langchain.docstore.document import Document\n",
    "from langchain.text_splitter import CharacterTextSplitter\n",
    "from langchain.vectorstores.redis import Redis\n",
    "\n",
    "sys.path.append('../')\n",
    "from botcore.setup import get_openai_embeddings, load_my_env\n",
    "\n",
    "\n",
    "class RedisVectorDB:\n",
    "\n",
    "    def __init__(self):\n",
    "        load_my_env()\n",
    "        self.embeddings = get_openai_embeddings()\n",
    "        self.url = os.getenv(\"REDIS_CLOUD\")\n",
    "        self.count = 0\n",
    "        self.redis = None\n",
    "        self.limit = 0.2\n",
    "        print(\"Vector DB is ready\")\n",
    "        \n",
    "    \n",
    "    def json_to_doc(self, data: Dict) -> Document:\n",
    "        \"\"\"\n",
    "            data = {\"title\": str, \"features\": [], \"post_id\": str, ...}\n",
    "        \"\"\"\n",
    "        feats = \", \".join([i for i in data['features']])\n",
    "        txt = f\"{data['title']}. {feats}\"\n",
    "        return Document(page_content=txt, metadata={\"post_id\": data['post_id'], \"user_id\": data['user_id']})\n",
    "\n",
    "    def add_new_wanted(self, data: Dict):\n",
    "        doc = self.json_to_doc(data)\n",
    "        return self.add_new_doc(doc, 'wanted')\n",
    "\n",
    "    def add_new_stock(self, data: Dict):\n",
    "        doc = self.json_to_doc(data)\n",
    "        return self.add_new_doc(doc, 'stock')\n",
    "    \n",
    "    def add_new_doc(self, doc: Document, index_name: str):\n",
    "        try:\n",
    "            if self.redis is None:\n",
    "                self.redis = Redis.from_documents([doc], self.embeddings, redis_url=self.url, index_name=index_name)\n",
    "            else: \n",
    "                self.redis.add_documents([doc])\n",
    "            return True\n",
    "        except:\n",
    "            print(\"An exception occurred when adding document\") \n",
    "            return False\n",
    "            \n",
    "    def search_wanted(self, query: str):\n",
    "        if self.redis is None:\n",
    "            print(\"Redis is not initialized. Please add a document first\")\n",
    "            return False\n",
    "        try:\n",
    "            results = self.redis.similarity_search_limit_score(query, score_threshold=self.limit)\n",
    "            return results\n",
    "        except:\n",
    "            print(\"Error occurred when finding documents\")\n",
    "            return False"
   ]
  },
  {
   "cell_type": "code",
   "execution_count": 3,
   "id": "d4c5726e-b8ce-4aeb-9abb-0ca74497b76b",
   "metadata": {},
   "outputs": [
    {
     "name": "stdout",
     "output_type": "stream",
     "text": [
      "OPEN AI Embedding ready\n",
      "Vector DB is ready\n"
     ]
    },
    {
     "data": {
      "text/plain": [
       "[True, True, True, True]"
      ]
     },
     "execution_count": 3,
     "metadata": {},
     "output_type": "execute_result"
    }
   ],
   "source": [
    "data = [{\n",
    "  \"post_id\": \"001\",\n",
    "  \"user_id\": \"A001\",\n",
    "  \"date\": \"3-7-2023\",\n",
    "  \"title\": \"I need a used laptop for my kid\",\n",
    "  \"features\": [\n",
    "    \"The laptop should have 4 GB RAM\",\n",
    "    \"The laptop's battery should be durable\",\n",
    "    \"The laptop should function normally\"\n",
    "  ]\n",
    "},{\n",
    "  \"post_id\": \"002\",\n",
    "  \"user_id\": \"A002\",\n",
    "  \"date\": \"20-7-2023\",\n",
    "  \"title\": \"I need a used rice cooker\",\n",
    "  \"features\": [\n",
    "    \"The rice cooker should not be damaged too much\",\n",
    "    \"The rice cooker should function normally\"\n",
    "  ]\n",
    "},{\n",
    "  \"post_id\": \"003\",\n",
    "  \"user_id\": \"A001\",\n",
    "  \"date\": \"20-7-2023\",\n",
    "  \"title\": \"We are in need of small children shirts\",\n",
    "  \"features\": [\n",
    "    \"The shirts should be for kid from 5 to 10 years old.\",\n",
    "    \"The shirts should be intact, and there are no damages.\",\n",
    "    \"The shirts should be clean.\"\n",
    "  ]\n",
    "},{\n",
    "  \"post_id\": \"004\",\n",
    "  \"user_id\": \"A003\",\n",
    "  \"date\": \"3-8-2023\",\n",
    "  \"title\": \"I need a used laptop for learning\",\n",
    "  \"features\": [\n",
    "    \"The laptop should have 8 GB RAM\",\n",
    "    \"The laptop should function normally\"\n",
    "  ]\n",
    "}]\n",
    "\n",
    "redis_db = RedisVectorDB()\n",
    "[redis_db.add_new_wanted(a) for a in data]"
   ]
  },
  {
   "cell_type": "code",
   "execution_count": 6,
   "id": "acf51268-ba7c-453b-a7ab-5b5ddad78a07",
   "metadata": {},
   "outputs": [
    {
     "data": {
      "text/plain": [
       "['__abstractmethods__',\n",
       " '__annotations__',\n",
       " '__class__',\n",
       " '__delattr__',\n",
       " '__dict__',\n",
       " '__dir__',\n",
       " '__doc__',\n",
       " '__eq__',\n",
       " '__format__',\n",
       " '__ge__',\n",
       " '__getattribute__',\n",
       " '__gt__',\n",
       " '__hash__',\n",
       " '__init__',\n",
       " '__init_subclass__',\n",
       " '__le__',\n",
       " '__lt__',\n",
       " '__module__',\n",
       " '__ne__',\n",
       " '__new__',\n",
       " '__reduce__',\n",
       " '__reduce_ex__',\n",
       " '__repr__',\n",
       " '__setattr__',\n",
       " '__sizeof__',\n",
       " '__slots__',\n",
       " '__str__',\n",
       " '__subclasshook__',\n",
       " '__weakref__',\n",
       " '_abc_impl',\n",
       " '_create_index',\n",
       " '_prepare_query',\n",
       " '_similarity_search_with_relevance_scores',\n",
       " 'aadd_documents',\n",
       " 'aadd_texts',\n",
       " 'add_documents',\n",
       " 'add_texts',\n",
       " 'afrom_documents',\n",
       " 'afrom_texts',\n",
       " 'amax_marginal_relevance_search',\n",
       " 'amax_marginal_relevance_search_by_vector',\n",
       " 'as_retriever',\n",
       " 'asearch',\n",
       " 'asimilarity_search',\n",
       " 'asimilarity_search_by_vector',\n",
       " 'asimilarity_search_with_relevance_scores',\n",
       " 'client',\n",
       " 'content_key',\n",
       " 'drop_index',\n",
       " 'embedding_function',\n",
       " 'from_documents',\n",
       " 'from_existing_index',\n",
       " 'from_texts',\n",
       " 'from_texts_return_keys',\n",
       " 'index_name',\n",
       " 'max_marginal_relevance_search',\n",
       " 'max_marginal_relevance_search_by_vector',\n",
       " 'metadata_key',\n",
       " 'relevance_score_fn',\n",
       " 'search',\n",
       " 'similarity_search',\n",
       " 'similarity_search_by_vector',\n",
       " 'similarity_search_limit_score',\n",
       " 'similarity_search_with_relevance_scores',\n",
       " 'similarity_search_with_score',\n",
       " 'vector_key']"
      ]
     },
     "execution_count": 6,
     "metadata": {},
     "output_type": "execute_result"
    }
   ],
   "source": [
    "dir(redis_db.redis)"
   ]
  },
  {
   "cell_type": "code",
   "execution_count": 3,
   "id": "9f5c39a1-c83b-43ea-a8f3-460670c7617b",
   "metadata": {},
   "outputs": [
    {
     "data": {
      "text/plain": [
       "[Document(page_content='I need a used laptop for learning. The laptop should have 8 GB RAM, The laptop should function normally', metadata={'post_id': '004', 'user_id': 'A003'}),\n",
       " Document(page_content=\"I need a used laptop for my kid. The laptop should have 4 GB RAM, The laptop's battery should be durable, The laptop should function normally\", metadata={'post_id': '001', 'user_id': 'A001'})]"
      ]
     },
     "execution_count": 3,
     "metadata": {},
     "output_type": "execute_result"
    }
   ],
   "source": [
    "b = redis_db.search_wanted(\"I have an old Asus laptop. It has 8 GB RAM.\")\n",
    "b"
   ]
  },
  {
   "cell_type": "code",
   "execution_count": 23,
   "id": "f3c01ee4-2713-4b7a-ad1d-784da2805450",
   "metadata": {},
   "outputs": [
    {
     "data": {
      "text/plain": [
       "['__abstractmethods__',\n",
       " '__annotations__',\n",
       " '__class__',\n",
       " '__delattr__',\n",
       " '__dict__',\n",
       " '__dir__',\n",
       " '__doc__',\n",
       " '__eq__',\n",
       " '__format__',\n",
       " '__ge__',\n",
       " '__getattribute__',\n",
       " '__gt__',\n",
       " '__hash__',\n",
       " '__init__',\n",
       " '__init_subclass__',\n",
       " '__le__',\n",
       " '__lt__',\n",
       " '__module__',\n",
       " '__ne__',\n",
       " '__new__',\n",
       " '__reduce__',\n",
       " '__reduce_ex__',\n",
       " '__repr__',\n",
       " '__setattr__',\n",
       " '__sizeof__',\n",
       " '__slots__',\n",
       " '__str__',\n",
       " '__subclasshook__',\n",
       " '__weakref__',\n",
       " '_abc_impl',\n",
       " '_create_index',\n",
       " '_prepare_query',\n",
       " '_similarity_search_with_relevance_scores',\n",
       " 'aadd_documents',\n",
       " 'aadd_texts',\n",
       " 'add_documents',\n",
       " 'add_texts',\n",
       " 'afrom_documents',\n",
       " 'afrom_texts',\n",
       " 'amax_marginal_relevance_search',\n",
       " 'amax_marginal_relevance_search_by_vector',\n",
       " 'as_retriever',\n",
       " 'asearch',\n",
       " 'asimilarity_search',\n",
       " 'asimilarity_search_by_vector',\n",
       " 'asimilarity_search_with_relevance_scores',\n",
       " 'client',\n",
       " 'content_key',\n",
       " 'drop_index',\n",
       " 'embedding_function',\n",
       " 'from_documents',\n",
       " 'from_existing_index',\n",
       " 'from_texts',\n",
       " 'from_texts_return_keys',\n",
       " 'index_name',\n",
       " 'max_marginal_relevance_search',\n",
       " 'max_marginal_relevance_search_by_vector',\n",
       " 'metadata_key',\n",
       " 'relevance_score_fn',\n",
       " 'search',\n",
       " 'similarity_search',\n",
       " 'similarity_search_by_vector',\n",
       " 'similarity_search_limit_score',\n",
       " 'similarity_search_with_relevance_scores',\n",
       " 'similarity_search_with_score',\n",
       " 'vector_key']"
      ]
     },
     "execution_count": 23,
     "metadata": {},
     "output_type": "execute_result"
    }
   ],
   "source": [
    "dir(redis_db.redis)"
   ]
  },
  {
   "cell_type": "markdown",
   "id": "fec2dfb1-8012-4c66-bed6-65dcaf3167cb",
   "metadata": {},
   "source": [
    "# run"
   ]
  },
  {
   "cell_type": "code",
   "execution_count": 3,
   "id": "7b46c11a-7b1e-4070-bb8d-d6942474b8e4",
   "metadata": {},
   "outputs": [
    {
     "name": "stdout",
     "output_type": "stream",
     "text": [
      "OPEN AI Embedding ready\n",
      "Vector DB is ready\n"
     ]
    },
    {
     "data": {
      "text/plain": [
       "[True, True, True, True]"
      ]
     },
     "execution_count": 3,
     "metadata": {},
     "output_type": "execute_result"
    }
   ],
   "source": [
    "import sys\n",
    "import os\n",
    "sys.path.append(f'../')\n",
    "from botcore.bot_redis import RedisVectorDB\n",
    "from botcore.test_data import TEST_WANTED_DATA \n",
    "\n",
    "redis_db = RedisVectorDB()\n",
    "data = TEST_WANTED_DATA\n",
    "\n",
    "[redis_db.add_new_wanted(a) for a in data]"
   ]
  },
  {
   "cell_type": "code",
   "execution_count": 4,
   "id": "b87d6c0e-1261-4150-9646-d3a84156e6fb",
   "metadata": {},
   "outputs": [
    {
     "data": {
      "text/plain": [
       "[{'post_id': '001',\n",
       "  'user_id': 'A001',\n",
       "  'date': '3-7-2023',\n",
       "  'title': 'I need a used laptop for my kid',\n",
       "  'features': ['The laptop should have 4 GB RAM',\n",
       "   \"The laptop's battery should be durable\",\n",
       "   'The laptop should function normally']},\n",
       " {'post_id': '002',\n",
       "  'user_id': 'A002',\n",
       "  'date': '20-7-2023',\n",
       "  'title': 'I need a used rice cooker',\n",
       "  'features': ['The rice cooker should not be damaged too much',\n",
       "   'The rice cooker should function normally']},\n",
       " {'post_id': '003',\n",
       "  'user_id': 'A001',\n",
       "  'date': '20-7-2023',\n",
       "  'title': 'We are in need of small children shirts',\n",
       "  'features': ['The shirts should be for kid from 5 to 10 years old.',\n",
       "   'The shirts should be intact, and there are no damages.',\n",
       "   'The shirts should be clean.']},\n",
       " {'post_id': '004',\n",
       "  'user_id': 'A003',\n",
       "  'date': '3-8-2023',\n",
       "  'title': 'I need a used laptop for learning',\n",
       "  'features': ['The laptop should have 8 GB RAM',\n",
       "   'The laptop should function normally']}]"
      ]
     },
     "execution_count": 4,
     "metadata": {},
     "output_type": "execute_result"
    }
   ],
   "source": [
    "data"
   ]
  },
  {
   "cell_type": "code",
   "execution_count": 5,
   "id": "c6a1d8ae-4576-4324-a52e-7af898af035d",
   "metadata": {},
   "outputs": [
    {
     "name": "stdout",
     "output_type": "stream",
     "text": [
      "[Document(page_content=\"I need a used laptop for my kid. The laptop should have 4 GB RAM, The laptop's battery should be durable, The laptop should function normally\", metadata={'type': 'wanted'}), Document(page_content='I need a used laptop for learning. The laptop should have 8 GB RAM, The laptop should function normally', metadata={'type': 'wanted'})]\n"
     ]
    }
   ],
   "source": [
    "# after user input\n",
    "\n",
    "data = {\"title\": \"I have an old phone\", \"features\": [\"My laptop has 4 GB RAM\", \"Is it function well? Well\", \"Does it have warranty: Yes\"]}\n",
    "\n",
    "b = redis_db.search_wanted(data)\n",
    "print(b)"
   ]
  },
  {
   "cell_type": "code",
   "execution_count": 6,
   "id": "528a51a8-2060-45ad-9337-ea47ab192e57",
   "metadata": {},
   "outputs": [
    {
     "data": {
      "text/plain": [
       "list"
      ]
     },
     "execution_count": 6,
     "metadata": {},
     "output_type": "execute_result"
    }
   ],
   "source": [
    "type(b)"
   ]
  },
  {
   "cell_type": "markdown",
   "id": "e9629545-edd4-45ad-84a5-c3d06c63f540",
   "metadata": {},
   "source": [
    "# find"
   ]
  },
  {
   "cell_type": "code",
   "execution_count": 1,
   "id": "245a19a8-b36b-463d-88c8-be639eb544d3",
   "metadata": {},
   "outputs": [
    {
     "name": "stdout",
     "output_type": "stream",
     "text": [
      "OPEN AI Embedding ready\n"
     ]
    },
    {
     "data": {
      "text/plain": [
       "[True, True, True, True]"
      ]
     },
     "execution_count": 1,
     "metadata": {},
     "output_type": "execute_result"
    }
   ],
   "source": [
    "import sys\n",
    "import os\n",
    "sys.path.append(f'../')\n",
    "from botcore.bot_redis import RedisDB\n",
    "from botcore.test_data import TEST_WANTED_DATA \n",
    "\n",
    "redis_db = RedisDB()\n",
    "data = TEST_WANTED_DATA\n",
    "\n",
    "[redis_db.add_new_wanted(a) for a in data]\n",
    "\n"
   ]
  },
  {
   "cell_type": "code",
   "execution_count": 4,
   "id": "f979311a-d89a-4307-9bf1-1355a323379c",
   "metadata": {},
   "outputs": [
    {
     "name": "stdout",
     "output_type": "stream",
     "text": [
      "I have an old phone. My laptop has 4 GB RAM, Is it function well? Well\n",
      "wanted laptop\n"
     ]
    }
   ],
   "source": [
    "\n",
    "from langchain.vectorstores.redis import Redis\n",
    "\n",
    "data = {\"title\": \"I have an old phone\", \"product\": \"laptop\", \"features\": [\"My laptop has 4 GB RAM\", \"Is it function well? Well\"]}\n",
    "index_name = f'wanted {data[\"product\"]}'\n",
    "redis = Redis(redis_url = redis_db.url, index_name = 'doc:wanted_laptop',\\\n",
    "                    embedding_function=redis_db.embeddings.embed_query)\n",
    "doc = redis_db.json_to_doc(data, {\"type\": index_name})\n",
    "query = doc.page_content\n",
    "print(query)\n",
    "print(index_name)"
   ]
  },
  {
   "cell_type": "code",
   "execution_count": 5,
   "id": "841b8e29-a1de-41ad-ab80-89bd3cd5e729",
   "metadata": {},
   "outputs": [
    {
     "ename": "ResponseError",
     "evalue": "doc:wanted_laptop: no such index",
     "output_type": "error",
     "traceback": [
      "\u001b[0;31m---------------------------------------------------------------------------\u001b[0m",
      "\u001b[0;31mResponseError\u001b[0m                             Traceback (most recent call last)",
      "\u001b[0;32m/tmp/ipykernel_5264/3095649373.py\u001b[0m in \u001b[0;36m<module>\u001b[0;34m\u001b[0m\n\u001b[0;32m----> 1\u001b[0;31m \u001b[0mres\u001b[0m \u001b[0;34m=\u001b[0m \u001b[0mredis\u001b[0m\u001b[0;34m.\u001b[0m\u001b[0msimilarity_search_limit_score\u001b[0m\u001b[0;34m(\u001b[0m\u001b[0mquery\u001b[0m\u001b[0;34m)\u001b[0m\u001b[0;34m\u001b[0m\u001b[0;34m\u001b[0m\u001b[0m\n\u001b[0m",
      "\u001b[0;32m~/.local/lib/python3.10/site-packages/langchain/vectorstores/redis.py\u001b[0m in \u001b[0;36msimilarity_search_limit_score\u001b[0;34m(self, query, k, score_threshold, **kwargs)\u001b[0m\n\u001b[1;32m    275\u001b[0m \u001b[0;34m\u001b[0m\u001b[0m\n\u001b[1;32m    276\u001b[0m         \"\"\"\n\u001b[0;32m--> 277\u001b[0;31m         \u001b[0mdocs_and_scores\u001b[0m \u001b[0;34m=\u001b[0m \u001b[0mself\u001b[0m\u001b[0;34m.\u001b[0m\u001b[0msimilarity_search_with_score\u001b[0m\u001b[0;34m(\u001b[0m\u001b[0mquery\u001b[0m\u001b[0;34m,\u001b[0m \u001b[0mk\u001b[0m\u001b[0;34m=\u001b[0m\u001b[0mk\u001b[0m\u001b[0;34m)\u001b[0m\u001b[0;34m\u001b[0m\u001b[0;34m\u001b[0m\u001b[0m\n\u001b[0m\u001b[1;32m    278\u001b[0m         \u001b[0;32mreturn\u001b[0m \u001b[0;34m[\u001b[0m\u001b[0mdoc\u001b[0m \u001b[0;32mfor\u001b[0m \u001b[0mdoc\u001b[0m\u001b[0;34m,\u001b[0m \u001b[0mscore\u001b[0m \u001b[0;32min\u001b[0m \u001b[0mdocs_and_scores\u001b[0m \u001b[0;32mif\u001b[0m \u001b[0mscore\u001b[0m \u001b[0;34m<\u001b[0m \u001b[0mscore_threshold\u001b[0m\u001b[0;34m]\u001b[0m\u001b[0;34m\u001b[0m\u001b[0;34m\u001b[0m\u001b[0m\n\u001b[1;32m    279\u001b[0m \u001b[0;34m\u001b[0m\u001b[0m\n",
      "\u001b[0;32m~/.local/lib/python3.10/site-packages/langchain/vectorstores/redis.py\u001b[0m in \u001b[0;36msimilarity_search_with_score\u001b[0;34m(self, query, k)\u001b[0m\n\u001b[1;32m    325\u001b[0m \u001b[0;34m\u001b[0m\u001b[0m\n\u001b[1;32m    326\u001b[0m         \u001b[0;31m# Perform vector search\u001b[0m\u001b[0;34m\u001b[0m\u001b[0;34m\u001b[0m\u001b[0m\n\u001b[0;32m--> 327\u001b[0;31m         \u001b[0mresults\u001b[0m \u001b[0;34m=\u001b[0m \u001b[0mself\u001b[0m\u001b[0;34m.\u001b[0m\u001b[0mclient\u001b[0m\u001b[0;34m.\u001b[0m\u001b[0mft\u001b[0m\u001b[0;34m(\u001b[0m\u001b[0mself\u001b[0m\u001b[0;34m.\u001b[0m\u001b[0mindex_name\u001b[0m\u001b[0;34m)\u001b[0m\u001b[0;34m.\u001b[0m\u001b[0msearch\u001b[0m\u001b[0;34m(\u001b[0m\u001b[0mredis_query\u001b[0m\u001b[0;34m,\u001b[0m \u001b[0mparams_dict\u001b[0m\u001b[0;34m)\u001b[0m\u001b[0;34m\u001b[0m\u001b[0;34m\u001b[0m\u001b[0m\n\u001b[0m\u001b[1;32m    328\u001b[0m \u001b[0;34m\u001b[0m\u001b[0m\n\u001b[1;32m    329\u001b[0m         \u001b[0;31m# Prepare document results\u001b[0m\u001b[0;34m\u001b[0m\u001b[0;34m\u001b[0m\u001b[0m\n",
      "\u001b[0;32m~/.local/lib/python3.10/site-packages/redis/commands/search/commands.py\u001b[0m in \u001b[0;36msearch\u001b[0;34m(self, query, query_params)\u001b[0m\n\u001b[1;32m    418\u001b[0m         \u001b[0margs\u001b[0m\u001b[0;34m,\u001b[0m \u001b[0mquery\u001b[0m \u001b[0;34m=\u001b[0m \u001b[0mself\u001b[0m\u001b[0;34m.\u001b[0m\u001b[0m_mk_query_args\u001b[0m\u001b[0;34m(\u001b[0m\u001b[0mquery\u001b[0m\u001b[0;34m,\u001b[0m \u001b[0mquery_params\u001b[0m\u001b[0;34m=\u001b[0m\u001b[0mquery_params\u001b[0m\u001b[0;34m)\u001b[0m\u001b[0;34m\u001b[0m\u001b[0;34m\u001b[0m\u001b[0m\n\u001b[1;32m    419\u001b[0m         \u001b[0mst\u001b[0m \u001b[0;34m=\u001b[0m \u001b[0mtime\u001b[0m\u001b[0;34m.\u001b[0m\u001b[0mtime\u001b[0m\u001b[0;34m(\u001b[0m\u001b[0;34m)\u001b[0m\u001b[0;34m\u001b[0m\u001b[0;34m\u001b[0m\u001b[0m\n\u001b[0;32m--> 420\u001b[0;31m         \u001b[0mres\u001b[0m \u001b[0;34m=\u001b[0m \u001b[0mself\u001b[0m\u001b[0;34m.\u001b[0m\u001b[0mexecute_command\u001b[0m\u001b[0;34m(\u001b[0m\u001b[0mSEARCH_CMD\u001b[0m\u001b[0;34m,\u001b[0m \u001b[0;34m*\u001b[0m\u001b[0margs\u001b[0m\u001b[0;34m)\u001b[0m\u001b[0;34m\u001b[0m\u001b[0;34m\u001b[0m\u001b[0m\n\u001b[0m\u001b[1;32m    421\u001b[0m \u001b[0;34m\u001b[0m\u001b[0m\n\u001b[1;32m    422\u001b[0m         \u001b[0;32mif\u001b[0m \u001b[0misinstance\u001b[0m\u001b[0;34m(\u001b[0m\u001b[0mres\u001b[0m\u001b[0;34m,\u001b[0m \u001b[0mPipeline\u001b[0m\u001b[0;34m)\u001b[0m\u001b[0;34m:\u001b[0m\u001b[0;34m\u001b[0m\u001b[0;34m\u001b[0m\u001b[0m\n",
      "\u001b[0;32m~/.local/lib/python3.10/site-packages/redis/client.py\u001b[0m in \u001b[0;36mexecute_command\u001b[0;34m(self, *args, **options)\u001b[0m\n\u001b[1;32m   1267\u001b[0m \u001b[0;34m\u001b[0m\u001b[0m\n\u001b[1;32m   1268\u001b[0m         \u001b[0;32mtry\u001b[0m\u001b[0;34m:\u001b[0m\u001b[0;34m\u001b[0m\u001b[0;34m\u001b[0m\u001b[0m\n\u001b[0;32m-> 1269\u001b[0;31m             return conn.retry.call_with_retry(\n\u001b[0m\u001b[1;32m   1270\u001b[0m                 lambda: self._send_command_parse_response(\n\u001b[1;32m   1271\u001b[0m                     \u001b[0mconn\u001b[0m\u001b[0;34m,\u001b[0m \u001b[0mcommand_name\u001b[0m\u001b[0;34m,\u001b[0m \u001b[0;34m*\u001b[0m\u001b[0margs\u001b[0m\u001b[0;34m,\u001b[0m \u001b[0;34m**\u001b[0m\u001b[0moptions\u001b[0m\u001b[0;34m\u001b[0m\u001b[0;34m\u001b[0m\u001b[0m\n",
      "\u001b[0;32m~/.local/lib/python3.10/site-packages/redis/retry.py\u001b[0m in \u001b[0;36mcall_with_retry\u001b[0;34m(self, do, fail)\u001b[0m\n\u001b[1;32m     44\u001b[0m         \u001b[0;32mwhile\u001b[0m \u001b[0;32mTrue\u001b[0m\u001b[0;34m:\u001b[0m\u001b[0;34m\u001b[0m\u001b[0;34m\u001b[0m\u001b[0m\n\u001b[1;32m     45\u001b[0m             \u001b[0;32mtry\u001b[0m\u001b[0;34m:\u001b[0m\u001b[0;34m\u001b[0m\u001b[0;34m\u001b[0m\u001b[0m\n\u001b[0;32m---> 46\u001b[0;31m                 \u001b[0;32mreturn\u001b[0m \u001b[0mdo\u001b[0m\u001b[0;34m(\u001b[0m\u001b[0;34m)\u001b[0m\u001b[0;34m\u001b[0m\u001b[0;34m\u001b[0m\u001b[0m\n\u001b[0m\u001b[1;32m     47\u001b[0m             \u001b[0;32mexcept\u001b[0m \u001b[0mself\u001b[0m\u001b[0;34m.\u001b[0m\u001b[0m_supported_errors\u001b[0m \u001b[0;32mas\u001b[0m \u001b[0merror\u001b[0m\u001b[0;34m:\u001b[0m\u001b[0;34m\u001b[0m\u001b[0;34m\u001b[0m\u001b[0m\n\u001b[1;32m     48\u001b[0m                 \u001b[0mfailures\u001b[0m \u001b[0;34m+=\u001b[0m \u001b[0;36m1\u001b[0m\u001b[0;34m\u001b[0m\u001b[0;34m\u001b[0m\u001b[0m\n",
      "\u001b[0;32m~/.local/lib/python3.10/site-packages/redis/client.py\u001b[0m in \u001b[0;36m<lambda>\u001b[0;34m()\u001b[0m\n\u001b[1;32m   1268\u001b[0m         \u001b[0;32mtry\u001b[0m\u001b[0;34m:\u001b[0m\u001b[0;34m\u001b[0m\u001b[0;34m\u001b[0m\u001b[0m\n\u001b[1;32m   1269\u001b[0m             return conn.retry.call_with_retry(\n\u001b[0;32m-> 1270\u001b[0;31m                 lambda: self._send_command_parse_response(\n\u001b[0m\u001b[1;32m   1271\u001b[0m                     \u001b[0mconn\u001b[0m\u001b[0;34m,\u001b[0m \u001b[0mcommand_name\u001b[0m\u001b[0;34m,\u001b[0m \u001b[0;34m*\u001b[0m\u001b[0margs\u001b[0m\u001b[0;34m,\u001b[0m \u001b[0;34m**\u001b[0m\u001b[0moptions\u001b[0m\u001b[0;34m\u001b[0m\u001b[0;34m\u001b[0m\u001b[0m\n\u001b[1;32m   1272\u001b[0m                 ),\n",
      "\u001b[0;32m~/.local/lib/python3.10/site-packages/redis/client.py\u001b[0m in \u001b[0;36m_send_command_parse_response\u001b[0;34m(self, conn, command_name, *args, **options)\u001b[0m\n\u001b[1;32m   1244\u001b[0m         \"\"\"\n\u001b[1;32m   1245\u001b[0m         \u001b[0mconn\u001b[0m\u001b[0;34m.\u001b[0m\u001b[0msend_command\u001b[0m\u001b[0;34m(\u001b[0m\u001b[0;34m*\u001b[0m\u001b[0margs\u001b[0m\u001b[0;34m)\u001b[0m\u001b[0;34m\u001b[0m\u001b[0;34m\u001b[0m\u001b[0m\n\u001b[0;32m-> 1246\u001b[0;31m         \u001b[0;32mreturn\u001b[0m \u001b[0mself\u001b[0m\u001b[0;34m.\u001b[0m\u001b[0mparse_response\u001b[0m\u001b[0;34m(\u001b[0m\u001b[0mconn\u001b[0m\u001b[0;34m,\u001b[0m \u001b[0mcommand_name\u001b[0m\u001b[0;34m,\u001b[0m \u001b[0;34m**\u001b[0m\u001b[0moptions\u001b[0m\u001b[0;34m)\u001b[0m\u001b[0;34m\u001b[0m\u001b[0;34m\u001b[0m\u001b[0m\n\u001b[0m\u001b[1;32m   1247\u001b[0m \u001b[0;34m\u001b[0m\u001b[0m\n\u001b[1;32m   1248\u001b[0m     \u001b[0;32mdef\u001b[0m \u001b[0m_disconnect_raise\u001b[0m\u001b[0;34m(\u001b[0m\u001b[0mself\u001b[0m\u001b[0;34m,\u001b[0m \u001b[0mconn\u001b[0m\u001b[0;34m,\u001b[0m \u001b[0merror\u001b[0m\u001b[0;34m)\u001b[0m\u001b[0;34m:\u001b[0m\u001b[0;34m\u001b[0m\u001b[0;34m\u001b[0m\u001b[0m\n",
      "\u001b[0;32m~/.local/lib/python3.10/site-packages/redis/client.py\u001b[0m in \u001b[0;36mparse_response\u001b[0;34m(self, connection, command_name, **options)\u001b[0m\n\u001b[1;32m   1284\u001b[0m                 \u001b[0moptions\u001b[0m\u001b[0;34m.\u001b[0m\u001b[0mpop\u001b[0m\u001b[0;34m(\u001b[0m\u001b[0mNEVER_DECODE\u001b[0m\u001b[0;34m)\u001b[0m\u001b[0;34m\u001b[0m\u001b[0;34m\u001b[0m\u001b[0m\n\u001b[1;32m   1285\u001b[0m             \u001b[0;32melse\u001b[0m\u001b[0;34m:\u001b[0m\u001b[0;34m\u001b[0m\u001b[0;34m\u001b[0m\u001b[0m\n\u001b[0;32m-> 1286\u001b[0;31m                 \u001b[0mresponse\u001b[0m \u001b[0;34m=\u001b[0m \u001b[0mconnection\u001b[0m\u001b[0;34m.\u001b[0m\u001b[0mread_response\u001b[0m\u001b[0;34m(\u001b[0m\u001b[0;34m)\u001b[0m\u001b[0;34m\u001b[0m\u001b[0;34m\u001b[0m\u001b[0m\n\u001b[0m\u001b[1;32m   1287\u001b[0m         \u001b[0;32mexcept\u001b[0m \u001b[0mResponseError\u001b[0m\u001b[0;34m:\u001b[0m\u001b[0;34m\u001b[0m\u001b[0;34m\u001b[0m\u001b[0m\n\u001b[1;32m   1288\u001b[0m             \u001b[0;32mif\u001b[0m \u001b[0mEMPTY_RESPONSE\u001b[0m \u001b[0;32min\u001b[0m \u001b[0moptions\u001b[0m\u001b[0;34m:\u001b[0m\u001b[0;34m\u001b[0m\u001b[0;34m\u001b[0m\u001b[0m\n",
      "\u001b[0;32m~/.local/lib/python3.10/site-packages/redis/connection.py\u001b[0m in \u001b[0;36mread_response\u001b[0;34m(self, disable_decoding, disconnect_on_error)\u001b[0m\n\u001b[1;32m    903\u001b[0m \u001b[0;34m\u001b[0m\u001b[0m\n\u001b[1;32m    904\u001b[0m         \u001b[0;32mif\u001b[0m \u001b[0misinstance\u001b[0m\u001b[0;34m(\u001b[0m\u001b[0mresponse\u001b[0m\u001b[0;34m,\u001b[0m \u001b[0mResponseError\u001b[0m\u001b[0;34m)\u001b[0m\u001b[0;34m:\u001b[0m\u001b[0;34m\u001b[0m\u001b[0;34m\u001b[0m\u001b[0m\n\u001b[0;32m--> 905\u001b[0;31m             \u001b[0;32mraise\u001b[0m \u001b[0mresponse\u001b[0m\u001b[0;34m\u001b[0m\u001b[0;34m\u001b[0m\u001b[0m\n\u001b[0m\u001b[1;32m    906\u001b[0m         \u001b[0;32mreturn\u001b[0m \u001b[0mresponse\u001b[0m\u001b[0;34m\u001b[0m\u001b[0;34m\u001b[0m\u001b[0m\n\u001b[1;32m    907\u001b[0m \u001b[0;34m\u001b[0m\u001b[0m\n",
      "\u001b[0;31mResponseError\u001b[0m: doc:wanted_laptop: no such index"
     ]
    }
   ],
   "source": [
    "res = redis.similarity_search_limit_score(query)"
   ]
  },
  {
   "cell_type": "code",
   "execution_count": null,
   "id": "095454cb-7dc3-4dcf-ab38-ef475eaaa763",
   "metadata": {},
   "outputs": [],
   "source": [
    "\n",
    "redis = Redis(redis_url=redis_db.url, )"
   ]
  }
 ],
 "metadata": {
  "kernelspec": {
   "display_name": "Python 3 (ipykernel)",
   "language": "python",
   "name": "python3"
  },
  "language_info": {
   "codemirror_mode": {
    "name": "ipython",
    "version": 3
   },
   "file_extension": ".py",
   "mimetype": "text/x-python",
   "name": "python",
   "nbconvert_exporter": "python",
   "pygments_lexer": "ipython3",
   "version": "3.10.6"
  }
 },
 "nbformat": 4,
 "nbformat_minor": 5
}
