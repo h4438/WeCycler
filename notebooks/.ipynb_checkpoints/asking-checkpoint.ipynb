{
 "cells": [
  {
   "cell_type": "markdown",
   "id": "e1a4ebe6-5efa-4bf0-8ca7-4907d9855da9",
   "metadata": {},
   "source": [
    "# Asking questions chain"
   ]
  },
  {
   "cell_type": "code",
   "execution_count": 10,
   "id": "0a8125c0-f4f4-4608-b6fb-0a580fcde50c",
   "metadata": {},
   "outputs": [
    {
     "name": "stdout",
     "output_type": "stream",
     "text": [
      "AI21 ready\n",
      "Enable tracing at asking\n"
     ]
    },
    {
     "data": {
      "text/plain": [
       "True"
      ]
     },
     "execution_count": 10,
     "metadata": {},
     "output_type": "execute_result"
    }
   ],
   "source": [
    "import sys\n",
    "sys.path.append('../')\n",
    "from setup import get_ai21_model, enable_tracing, trace_openai\n",
    "from utils.prompt_utils import build_prompt\n",
    "MODEL = get_ai21_model(max_tokens=500)\n",
    "# MODEL = trace_openai(\"asking\")\n",
    "enable_tracing(\"asking\")"
   ]
  },
  {
   "cell_type": "markdown",
   "id": "c0273ead-d9db-4ff8-87da-4167535f00ac",
   "metadata": {},
   "source": [
    "# Let model asks based on criterias\n",
    "## Try 1"
   ]
  },
  {
   "cell_type": "code",
   "execution_count": 36,
   "id": "3d210cbc-0d62-4bc9-ade0-0a6cfd887d9c",
   "metadata": {},
   "outputs": [],
   "source": [
    "from langchain import LLMChain\n",
    "\n",
    "ASKING_QUESTION_CONST = \\\n",
    "{\"inputs\":[\"product\", \"n_limit\"],\n",
    " \"outputs\": {\"questions\": \"\"\"a js array of elements. Each element should contains 2 properties:\n",
    " question: str // the question.\n",
    " options: str // a js array of answers for the question.\"\"\"},\n",
    "\"template\": \"\"\"You are a secondhand dealer and inspecting an used {product}.\n",
    "Your job is to ask {n_limit} questions that let you know more about the current status of the product.\n",
    "You must make sure that the questions will help you know more about these following criterias:\n",
    "\n",
    "1. Make sure the product is not damaged too much.\n",
    "2. Make sure the product is in good condition.\n",
    "3. Make sure the product is still functioning with little troubles.\n",
    "\n",
    "{format_instructions}\n",
    "Answer:\"\"\"}\n",
    "\n",
    "inputs = ASKING_QUESTION_CONST['inputs']\n",
    "outputs = ASKING_QUESTION_CONST['outputs']\n",
    "template = ASKING_QUESTION_CONST['template']\n",
    "prompt = build_prompt(inputs, outputs, template, include_parser=False)\n",
    "chain = LLMChain(llm=MODEL, prompt=prompt, output_key='result')\n"
   ]
  },
  {
   "cell_type": "code",
   "execution_count": 37,
   "id": "26352193-0a2b-4161-a7ce-3275ed62d291",
   "metadata": {},
   "outputs": [
    {
     "data": {
      "text/plain": [
       "{'product': 'laptop',\n",
       " 'n_limit': 4,\n",
       " 'result': '\\n\\n```json\\n{\\n \"questions\": [\\n  {\\n   \"question\": \"Is the laptop damaged?\",\\n   \"options\": [\\n    \"Yes\",\\n    \"No\"\\n   ]\\n  },\\n  {\\n   \"question\": \"Is the laptop in good condition?\",\\n   \"options\": [\\n    \"Yes\",\\n    \"No\"\\n   ]\\n  },\\n  {\\n   \"question\": \"Is the laptop still functioning?\",\\n   \"options\": [\\n    \"Yes\",\\n    \"No\"\\n   ]\\n  }\\n ]\\n}\\n\\n```'}"
      ]
     },
     "execution_count": 37,
     "metadata": {},
     "output_type": "execute_result"
    }
   ],
   "source": [
    "ans = chain({'product': 'laptop', 'n_limit': 4})\n",
    "ans"
   ]
  },
  {
   "cell_type": "markdown",
   "id": "06c0b218-dd51-4257-8d93-a4d2b60e07af",
   "metadata": {},
   "source": [
    "## Try 2"
   ]
  },
  {
   "cell_type": "code",
   "execution_count": 7,
   "id": "c0ad4319-0deb-4c20-9bd7-0d8e69bef6b8",
   "metadata": {},
   "outputs": [],
   "source": [
    "from langchain import LLMChain\n",
    "\n",
    "ASKING_QUESTION_CONST = \\\n",
    "{\"inputs\":[\"product\"],\n",
    " \"outputs\": {\"questions\": \"\"\"a js array of elements. Each element should contains 2 properties:\n",
    " question: str // the question.\n",
    " options: list // a list of option answers for the question.\"\"\"},\n",
    "\"template\": \"\"\"You are a secondhand dealer and you speak in a polite manner. A customer is trying to sell a used {product},\n",
    "your job is to ask questions that let you gain more knowledge about the product, in order to fully understand the product:  \n",
    "{format_instructions}\n",
    "Answer:\"\"\"}\n",
    "\n",
    "inputs = ASKING_QUESTION_CONST['inputs']\n",
    "outputs = ASKING_QUESTION_CONST['outputs']\n",
    "template = ASKING_QUESTION_CONST['template']\n",
    "prompt = build_prompt(inputs, outputs, template, include_parser=False)\n",
    "chain = LLMChain(llm=MODEL, prompt=prompt, output_key='result')\n"
   ]
  },
  {
   "cell_type": "code",
   "execution_count": 9,
   "id": "93d32603-f106-45d6-9b12-5e9ad8203841",
   "metadata": {},
   "outputs": [
    {
     "data": {
      "text/plain": [
       "{'product': 'Iphone',\n",
       " 'result': '\\n```json\\n{\\n \"questions\": [\\n  {\\n   \"question\": \"What type of phone is it?\",\\n   \"options\": [\"Iphone\", \"Android\", \"Windows\"]\\n  },\\n  {\\n   \"question\": \"What color is the phone?\",\\n   \"options\": [\"Black\", \"White\", \"Red\", \"Green\", \"Blue\"]\\n  },\\n  {\\n   \"question\": \"How many gigabytes of storage does the phone have?\",\\n   \"options\": [16, 32, 64, 128, 256, 512]\\n  },\\n  {\\n   \"question\": \"Is the phone still under warranty?\",\\n   \"options\": [true, false]\\n  }\\n ]\\n}\\n\\n```'}"
      ]
     },
     "execution_count": 9,
     "metadata": {},
     "output_type": "execute_result"
    }
   ],
   "source": [
    "ans = chain({\"product\": \"Iphone\"})\n",
    "ans"
   ]
  },
  {
   "cell_type": "markdown",
   "id": "a4714a29-c0dc-4fe7-bdf8-fce971551bb9",
   "metadata": {},
   "source": [
    "## Try 3"
   ]
  },
  {
   "cell_type": "code",
   "execution_count": null,
   "id": "0fc61976-284f-457c-92b8-1753b9713158",
   "metadata": {},
   "outputs": [],
   "source": [
    "from langchain import LLMChain\n",
    "\n",
    "ASKING_QUESTION_CONST = \\\n",
    "{\"inputs\":[\"product\"],\n",
    " \"outputs\": {\"questions\": \"\"\"a js array of elements. Each element should contains 2 properties:\n",
    " question: str // the question.\n",
    " options: list // a list of option answers for the question.\"\"\"},\n",
    "\"template\": \"\"\"You are a secondhand dealer and you speak in a polite manner. A customer is trying to sell a used {product},\n",
    "your job is to ask questions that let you these following things:  \n",
    "* Let you know about the spec of the product.\n",
    "* Let you know all the information about the product.\n",
    "{format_instructions}\n",
    "Answer:\"\"\"}\n",
    "\n",
    "inputs = ASKING_QUESTION_CONST['inputs']\n",
    "outputs = ASKING_QUESTION_CONST['outputs']\n",
    "template = ASKING_QUESTION_CONST['template']\n",
    "prompt = build_prompt(inputs, outputs, template, include_parser=False)\n",
    "chain = LLMChain(llm=MODEL, prompt=prompt, output_key='result')\n"
   ]
  },
  {
   "cell_type": "markdown",
   "id": "41e35ec4-b6cc-47ec-99ac-4dd9a3c80530",
   "metadata": {},
   "source": [
    "# Chain\n",
    "## Ask feature chain\n",
    "Using top questions about required features when buying product"
   ]
  },
  {
   "cell_type": "code",
   "execution_count": 11,
   "id": "1c54fe47-5934-44fe-ab63-f8369ba9e280",
   "metadata": {},
   "outputs": [],
   "source": [
    "from langchain import LLMChain\n",
    "\n",
    "ASKING_QUESTION_CONST = \\\n",
    "{\"inputs\":[\"product\", \"n_top\"],\n",
    " \"outputs\": {\"questions\": \"\"\"a js array of elements. Each element should contains 2 properties:\n",
    " question: str // the question.\n",
    " options: str // a js array of answers for the question.\"\"\"},\n",
    "\"template\": \"\"\"You are buying a secondhand {product}.\n",
    "Please ask top {n_top} questions about the features which are required to know when buying a {product}\n",
    "{format_instructions}.\n",
    "Questions:\"\"\"}\n",
    "\n",
    "inputs = ASKING_QUESTION_CONST['inputs']\n",
    "outputs = ASKING_QUESTION_CONST['outputs']\n",
    "template = ASKING_QUESTION_CONST['template']\n",
    "prompt = build_prompt(inputs, outputs, template, include_parser=False)\n",
    "chain = LLMChain(llm=MODEL, prompt=prompt, output_key='result')"
   ]
  },
  {
   "cell_type": "code",
   "execution_count": 13,
   "id": "8ce3ce2f-280b-415d-8739-f9ea6998fbe1",
   "metadata": {},
   "outputs": [
    {
     "data": {
      "text/plain": [
       "{'product': 'sweater',\n",
       " 'n_top': 8,\n",
       " 'result': '\\n\\n```json\\n[\\n {\\n  \"question\": \"What material is it made of?\",\\n  \"options\": [\\n   \"Acrylic\",\\n   \"Wool\",\\n   \"Cotton\"\\n  ]\\n },\\n {\\n  \"question\": \"Is it hand or machine knitted?\",\\n  \"options\": [\\n   \"Hand knitted\",\\n   \"Machine knitted\"\\n  ]\\n },\\n {\\n  \"question\": \"Is it a pullover or a cardigan?\",\\n  \"options\": [\\n   \"Pullover\",\\n   \"Cardigan\"\\n  ]\\n },\\n {\\n  \"question\": \"Is it a crew neck or a V-neck?\",\\n  \"options\": [\\n   \"Crew neck\",\\n   \"V-neck\"\\n  ]\\n },\\n {\\n  \"question\": \"Is it a solid color or a pattern?\",\\n  \"options\": [\\n   \"Solid color\",\\n   \"Pattern\"\\n  ]\\n },\\n {\\n  \"question\": \"Is it a fitted or a loose fit?\",\\n  \"options\": [\\n   \"Fitted\",\\n   \"Loose fit\"\\n  ]\\n },\\n {\\n  \"question\": \"Is it a long sleeve or a short sleeve?\",\\n  \"options\": [\\n   \"Long sleeve\",\\n   \"Short sleeve\"\\n  ]\\n },\\n {\\n  \"question\": \"Is it a solid color or a pattern?\",\\n  \"options\": [\\n   \"Solid color\",\\n   \"Pattern\"\\n  ]\\n }\\n]\\n\\n```'}"
      ]
     },
     "execution_count": 13,
     "metadata": {},
     "output_type": "execute_result"
    }
   ],
   "source": [
    "ans = chain({\"product\": \"sweater\", \"n_top\": 8})\n",
    "ans"
   ]
  },
  {
   "cell_type": "markdown",
   "id": "89244b4e-c10d-49c8-b266-1539b19c030b",
   "metadata": {},
   "source": [
    "## Ask status chain"
   ]
  },
  {
   "cell_type": "code",
   "execution_count": 45,
   "id": "422b97fe-cb39-4cfa-ac91-6fd2d6174e40",
   "metadata": {},
   "outputs": [],
   "source": [
    "from langchain import LLMChain\n",
    "\n",
    "ASKING_QUESTION_CONST = \\\n",
    "{\"inputs\":[\"product\", \"n_top\"],\n",
    " \"outputs\": {\"questions\": \"\"\"a js array of elements. Each element should contains 2 properties:\n",
    " question: str // the question.\n",
    " options: str // a js array of answers for the question.\"\"\"},\n",
    "\"template\": \"\"\"You are inspecting a secondhand {product}.\n",
    "Please come up with {n_top} questions that will allow you to gather more information about the following criteria, which are delimited by triple backquotes.\n",
    "\n",
    "```\n",
    "1. Trouble in functioning.\n",
    "2. Current condition.\n",
    "```\n",
    "\n",
    "{format_instructions}.\n",
    "Questions:\"\"\"}\n",
    "\n",
    "inputs = ASKING_QUESTION_CONST['inputs']\n",
    "outputs = ASKING_QUESTION_CONST['outputs']\n",
    "template = ASKING_QUESTION_CONST['template']\n",
    "prompt = build_prompt(inputs, outputs, template, include_parser=False)\n",
    "chain = LLMChain(llm=MODEL, prompt=prompt, output_key='result')"
   ]
  },
  {
   "cell_type": "code",
   "execution_count": 46,
   "id": "36a33ede-f5c1-4d1c-991e-9b2877b3e7c5",
   "metadata": {},
   "outputs": [
    {
     "data": {
      "text/plain": [
       "{'product': 'shirt',\n",
       " 'n_top': 5,\n",
       " 'result': '\\n\\n```json\\n{\\n \"questions\": [\\n  {\\n   \"question\": \"Does the shirt have any rips or tears?\",\\n   \"options\": [\\n    \"Yes\",\\n    \"No\"\\n   ]\\n  },\\n  {\\n   \"question\": \"Is the shirt stained or discolored?\",\\n   \"options\": [\\n    \"Yes\",\\n    \"No\"\\n   ]\\n  },\\n  {\\n   \"question\": \"Is the shirt missing any buttons or fasteners?\",\\n   \"options\": [\\n    \"Yes\",\\n    \"No\"\\n   ]\\n  },\\n  {\\n   \"question\": \"Is the shirt faded or discolored?\",\\n   \"options\": [\\n    \"Yes\",\\n    \"No\"\\n   ]\\n  },\\n  {\\n   \"question\": \"Is the shirt wrinkled or creased?\",\\n   \"options\": [\\n    \"Yes\",\\n    \"No\"\\n   ]\\n  }\\n ]\\n}\\n\\n```'}"
      ]
     },
     "execution_count": 46,
     "metadata": {},
     "output_type": "execute_result"
    }
   ],
   "source": [
    "ans = chain({\"product\": \"shirt\", \"n_top\": 5})\n",
    "ans"
   ]
  },
  {
   "cell_type": "markdown",
   "id": "880c7787-da3a-477c-b2fe-b74c5798b116",
   "metadata": {},
   "source": [
    "# Learn\n",
    "## List features\n",
    "1. Given {product}, please list out the features associate with this product. -> List out unnecessary features\n",
    "2. As a {role}, please list out all associated features for {product}. -> Better but risky at electronics\n",
    "3. Given a scenario. As a {role}, list out features which are easy to answer -> Closely to normal customer\n",
    "4. {role} with {scenario}, .. physical features\n",
    "## Criterias\n",
    "5. Asking question to gain insights to fulfil criterias\n",
    "6. criterias + limitations"
   ]
  },
  {
   "cell_type": "code",
   "execution_count": 45,
   "id": "2061d58e-5dc4-46d4-b341-f1cbabb9a756",
   "metadata": {},
   "outputs": [
    {
     "name": "stdout",
     "output_type": "stream",
     "text": [
      "\n",
      "\n",
      "1. What is the material of the skirt?\n",
      "2. What is the length?\n",
      "3. What is the waist size?\n",
      "4. Does it have any pockets?\n",
      "5. Does it have any lining?\n",
      "6. Does it have any stretch?\n",
      "7. Does it have any embellishments?\n",
      "8. Does it have any stains or tears?\n"
     ]
    }
   ],
   "source": [
    "# good\n",
    "q = \"\"\"You are buying a secondhand skirt.\n",
    "Please ask top 8 questions about the features which are required to know when buying a skirt.\n",
    "Questions: \"\"\"\n",
    "ans = MODEL(q)\n",
    "print(ans)"
   ]
  },
  {
   "cell_type": "markdown",
   "id": "eb6360c2-3526-4952-8c41-f73ddf4e9914",
   "metadata": {},
   "source": [
    "## templates"
   ]
  },
  {
   "cell_type": "code",
   "execution_count": null,
   "id": "5c5e483f-bbc5-44fe-80a3-5c416085361b",
   "metadata": {},
   "outputs": [],
   "source": [
    "learn2 = \"\"\" You are a retailer. Please list out the associated features with the given product.\n",
    "These features should be highly relating to your job.\n",
    "The given product: a Tivi\n",
    "Associated features:\"\"\"\n",
    "\n",
    "learn3 = \"\"\"A person is trying to sell you a second-hand product. As a normal user, you will neeed to list out associated features of that product.\n",
    "Theese features should be easy to answer for a normal user.\n",
    "Product: a shirt\n",
    "Features:\"\"\"\n",
    "\n",
    "learn4 = \"\"\"A person is trying to sell you a second-hand product. As a normal user, you will neeed to list out associated features of that product.\n",
    "Theese features should be easy to answer for a normal user.\n",
    "Product: a shirt\n",
    "Features:\"\"\"\n",
    "\n",
    "q = \"\"\"You are a secondhand dealer.\\\n",
    "Given a product kind, you should list physical features relating to the product kind to understand what the customer is trying to sell to you.\n",
    "Product: a closet\n",
    "Features:\"\"\"\n",
    "\n",
    "learn5 = \"\"\" You are a secondhand dealer. A customer is trying to sell his used Android.\n",
    "Your job is to ask questions that gain you insights about the product to fully fulfil these following criterias:\n",
    "1. Make sure the product is still usable.\n",
    "2. Make sure all the information about the product is well understood.\n",
    "Question:\"\"\"\n",
    "\n",
    "learn6 = \"\"\"You are a secondhand dealer and you speak in a polite manner.\n",
    "A customer is trying to sell a used Laptop, and you do not have eyes so images are useless.\n",
    "Therefore, your job is to ask questions that gain you more knowledge about the product to fulfil the criterias.\n",
    "Each criteria should have no more than 3 questions. Each question only consider about a single aspect of the product.\n",
    "Criterias:\n",
    "* Make sure the product is in good condition.\n",
    "* Make sure all the information about the product is well understood.\n",
    "* Make sure all the spec about the product is well understood.\n",
    "Question:\"\"\"\n",
    "\n",
    "q = \"\"\" You are buying an old laptop.\n",
    "Your job is to come up questions that let you gain more information about the product.\n",
    "The question should help you know more about:\n",
    "1. The current status of the product.\n",
    "2. The specifcations of the product.\n",
    "3. The features of the product.\n",
    "Questions:\"\"\"\n"
   ]
  }
 ],
 "metadata": {
  "kernelspec": {
   "display_name": "Python 3 (ipykernel)",
   "language": "python",
   "name": "python3"
  },
  "language_info": {
   "codemirror_mode": {
    "name": "ipython",
    "version": 3
   },
   "file_extension": ".py",
   "mimetype": "text/x-python",
   "name": "python",
   "nbconvert_exporter": "python",
   "pygments_lexer": "ipython3",
   "version": "3.10.6"
  }
 },
 "nbformat": 4,
 "nbformat_minor": 5
}
