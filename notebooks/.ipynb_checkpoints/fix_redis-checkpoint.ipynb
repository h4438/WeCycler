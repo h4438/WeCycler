{
 "cells": [
  {
   "cell_type": "code",
   "execution_count": 1,
   "id": "dc1be44c-6c03-4063-a551-971858db6a56",
   "metadata": {},
   "outputs": [],
   "source": [
    "import redis\n",
    "import os\n",
    "from dotenv import load_dotenv\n",
    "from langchain.schema import Document\n",
    "from typing import List, Dict\n",
    "import json\n",
    "from langchain.vectorstores.redis import Redis\n",
    "import sys\n",
    "sys.path.append(f\"../\")\n",
    "from botcore.setup import get_openai_embeddings, load_my_env\n",
    "\n",
    "class RedisDB:\n",
    "\n",
    "    def __init__(self):\n",
    "\n",
    "        load_my_env()\n",
    "        self.embeddings = get_openai_embeddings()\n",
    "        self.url = os.getenv(\"REDIS_CLOUD\")\n",
    "        self.limit = 0.2\n",
    "\n",
    "    def json_to_doc(self, data: Dict, meta_info: Dict = None) -> Document:\n",
    "        \"\"\"\n",
    "            data = {\"title\": str, \"features\": [], \"post_id\": str, ...}\n",
    "        \"\"\"\n",
    "        feats = \", \".join([i for i in data['features']])\n",
    "        txt = f\"{data['title']}. {feats}\"\n",
    "        return Document(page_content=txt, metadata=meta_info)\n",
    "\n",
    "    def add_doc(self, doc: Document, index_name: str):\n",
    "        try:\n",
    "            \n",
    "            Redis.from_documents([doc], self.embeddings, redis_url=self.url, index_name=index_name)\n",
    "\n",
    "            return True\n",
    "        except:\n",
    "            print(\"An exception occurred when adding new doc\")\n",
    "            return False\n",
    "    ## add\n",
    "    def add_new_wanted(self, data: Dict):\n",
    "        p = data[\"product\"].replace(\" \",\"_\")\n",
    "        index = f'wanted:{p}'\n",
    "        doc = self.json_to_doc(data, {\"type\": index})\n",
    "        return self.add_doc(doc, index)\n",
    "\n",
    "    def add_new_stock(self, data: Dict):\n",
    "        p = data['product'].replace(\" \",\"_\")\n",
    "        index = f\"stock:{p}\"\n",
    "        doc = self.json_to_doc(data, {\"type\": index})\n",
    "        return self.add_doc(doc, index)\n",
    "\n",
    "    def search_in_wanted(self, data: Dict):\n",
    "        p = data[\"product\"].replace(\" \",\"_\")\n",
    "        index_name = f\"wanted:{p}\"\n",
    "        return self.search_doc(data, index_name)\n",
    "\n",
    "    \n",
    "    def search_doc(self, data: Dict, index: str):\n",
    "        redis = Redis(redis_url = self.url, index_name = index,\\\n",
    "                    embedding_function=self.embeddings.embed_query)\n",
    "        doc = redis_db.json_to_doc(data, {\"type\": index})\n",
    "        query = doc.page_content\n",
    "        try:\n",
    "            results = redis.similarity_search_limit_score(query, score_threshold=self.limit)\n",
    "            return results\n",
    "        except:\n",
    "            return False\n",
    "\n",
    "        "
   ]
  },
  {
   "cell_type": "code",
   "execution_count": 2,
   "id": "97b51915-bd26-4503-944d-0be73185f440",
   "metadata": {},
   "outputs": [
    {
     "name": "stdout",
     "output_type": "stream",
     "text": [
      "OPEN AI Embedding ready\n"
     ]
    }
   ],
   "source": [
    "from botcore.test_data import TEST_WANTED_DATA \n",
    "\n",
    "redis_db = RedisDB()\n",
    "data = TEST_WANTED_DATA\n",
    "# [redis_db.add_new_wanted(a) for a in data]"
   ]
  },
  {
   "cell_type": "code",
   "execution_count": 5,
   "id": "7854cc0b-8460-404b-8c23-e6360919cdea",
   "metadata": {},
   "outputs": [
    {
     "name": "stdout",
     "output_type": "stream",
     "text": [
      "wanted:laptop\n",
      "I have an old laptop. My laptop has 4 GB RAM, Is it function well? Well, Does it have warranty: Yes\n"
     ]
    }
   ],
   "source": [
    "p = data[\"product\"].replace(\" \",\"_\")\n",
    "index_name = f\"wanted:{p}\"\n",
    "\n",
    "redis = Redis(redis_url = redis_db.url, index_name = index_name,\\\n",
    "                    embedding_function=redis_db.embeddings.embed_query)\n",
    "        \n",
    "doc = redis_db.json_to_doc(data, {\"type\": index_name})\n",
    "query = doc.page_content\n",
    "\n",
    "print(index_name)\n",
    "print(query)"
   ]
  },
  {
   "cell_type": "code",
   "execution_count": 3,
   "id": "4618bb81-854f-4be2-9a31-64150e4650c4",
   "metadata": {},
   "outputs": [],
   "source": [
    "data = {\"title\": \"I have an old laptop\",\"product\":\"laptop\", \"features\": [\"My laptop has 4 GB RAM\", \"Is it function well? Well\", \"Does it have warranty: Yes\"]}\n",
    "\n",
    "results = redis_db.search_in_wanted(data)"
   ]
  },
  {
   "cell_type": "code",
   "execution_count": 4,
   "id": "21933be3-98e9-4fea-93dc-e6e3dbc786bc",
   "metadata": {},
   "outputs": [
    {
     "data": {
      "text/plain": [
       "False"
      ]
     },
     "execution_count": 4,
     "metadata": {},
     "output_type": "execute_result"
    }
   ],
   "source": [
    "results"
   ]
  }
 ],
 "metadata": {
  "kernelspec": {
   "display_name": "Python 3 (ipykernel)",
   "language": "python",
   "name": "python3"
  },
  "language_info": {
   "codemirror_mode": {
    "name": "ipython",
    "version": 3
   },
   "file_extension": ".py",
   "mimetype": "text/x-python",
   "name": "python",
   "nbconvert_exporter": "python",
   "pygments_lexer": "ipython3",
   "version": "3.10.6"
  }
 },
 "nbformat": 4,
 "nbformat_minor": 5
}
