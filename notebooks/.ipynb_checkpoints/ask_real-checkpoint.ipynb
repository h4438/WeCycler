{
 "cells": [
  {
   "cell_type": "code",
   "execution_count": 1,
   "id": "e7d1533d-cc2a-4dbd-83be-d2ec50542061",
   "metadata": {},
   "outputs": [
    {
     "name": "stdout",
     "output_type": "stream",
     "text": [
      "AI21 ready\n",
      "Enable tracing at ask_demo\n",
      "Features explorer ready\n"
     ]
    }
   ],
   "source": [
    "import sys\n",
    "sys.path.append('../')\n",
    "from botcore.setup import get_ai21_model, enable_tracing\n",
    "from botcore.bot_redis import connect_redis\n",
    "from botcore.routing.explore_route import FeatureExplorer\n",
    "\n",
    "\n",
    "MODEL = get_ai21_model(max_tokens = 400)\n",
    "enable_tracing(\"ask_demo\")\n",
    "\n",
    "db = connect_redis()\n",
    "explorer = FeatureExplorer(MODEL, db)"
   ]
  },
  {
   "cell_type": "code",
   "execution_count": 2,
   "id": "cd7cd549-77f6-4af6-a0fe-f35d879ee0d1",
   "metadata": {},
   "outputs": [],
   "source": [
    "feat, cond = explorer.ask_user(\"phone\", 2)"
   ]
  },
  {
   "cell_type": "code",
   "execution_count": 8,
   "id": "a1bf5c6c-00a8-45d0-a0a0-5e368ec39533",
   "metadata": {},
   "outputs": [
    {
     "data": {
      "text/plain": [
       "{'questions': [{'question': 'What is the maximum load capacity of the washing machine?',\n",
       "   'options': ['5 kg', '7 kg', '10 kg', '12 kg', '15 kg']},\n",
       "  {'question': 'What is the maximum spin speed of the washing machine?',\n",
       "   'options': ['1000 rpm', '1200 rpm', '1400 rpm', '1600 rpm', '1800 rpm']}]}"
      ]
     },
     "execution_count": 8,
     "metadata": {},
     "output_type": "execute_result"
    }
   ],
   "source": [
    "feat"
   ]
  },
  {
   "cell_type": "code",
   "execution_count": 9,
   "id": "43f2cdab-6801-42e4-97ce-c27a2bec565b",
   "metadata": {},
   "outputs": [
    {
     "data": {
      "text/plain": [
       "[{'question': 'Has the washing machine ever broken down?',\n",
       "  'options': ['yes', 'no']},\n",
       " {'question': 'Is the washing machine still under warranty?',\n",
       "  'options': ['yes', 'no']}]"
      ]
     },
     "execution_count": 9,
     "metadata": {},
     "output_type": "execute_result"
    }
   ],
   "source": [
    "cond"
   ]
  }
 ],
 "metadata": {
  "kernelspec": {
   "display_name": "Python 3 (ipykernel)",
   "language": "python",
   "name": "python3"
  },
  "language_info": {
   "codemirror_mode": {
    "name": "ipython",
    "version": 3
   },
   "file_extension": ".py",
   "mimetype": "text/x-python",
   "name": "python",
   "nbconvert_exporter": "python",
   "pygments_lexer": "ipython3",
   "version": "3.10.6"
  }
 },
 "nbformat": 4,
 "nbformat_minor": 5
}
