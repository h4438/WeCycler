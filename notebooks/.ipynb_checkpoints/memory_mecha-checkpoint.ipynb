{
 "cells": [
  {
   "cell_type": "markdown",
   "id": "686c08d1-6373-4ebf-b446-2f75e2a295e3",
   "metadata": {},
   "source": [
    "# Memory mechanism\n",
    "\n",
    "Its job:\n",
    "1. push data to it\n",
    "2. push it to a chain\n",
    "3. ask the chain to summarize"
   ]
  },
  {
   "cell_type": "code",
   "execution_count": 1,
   "id": "e805f25d-c884-490c-83d5-5e833c2f8a95",
   "metadata": {},
   "outputs": [
    {
     "name": "stdout",
     "output_type": "stream",
     "text": [
      "AI21 ready\n",
      "Enable tracing at mem_mecha\n"
     ]
    }
   ],
   "source": [
    "import sys\n",
    "sys.path.append('../')\n",
    "from botcore.setup import get_ai21_model, enable_tracing\n",
    "from botcore.chains.ask_feature import build_ask_feature_chain\n",
    "from botcore.chains.ask_condition import build_ask_condition_chain\n",
    "\n",
    "MODEL = get_ai21_model(max_tokens = 400)\n",
    "enable_tracing(\"mem_mecha\")\n",
    "\n",
    "ask_feature = build_ask_feature_chain(MODEL)\n",
    "ask_condition = build_ask_condition_chain(MODEL)"
   ]
  },
  {
   "cell_type": "code",
   "execution_count": 2,
   "id": "1ce14064-bcae-47b0-ac1d-526942de8983",
   "metadata": {},
   "outputs": [
    {
     "data": {
      "text/plain": [
       "{'product': 'laptop',\n",
       " 'n_top': 3,\n",
       " 'result': '\\n\\n```json\\n[\\n {\\n  \"question\": \"What is the screen size?\",\\n  \"options\": [\\n   \"14 inch\",\\n   \"15.6 inch\",\\n   \"13.3 inch\",\\n   \"17.3 inch\",\\n   \"11.6 inch\"\\n  ]\\n },\\n {\\n  \"question\": \"What is the RAM size?\",\\n  \"options\": [\\n   \"4 GB\",\\n   \"8 GB\",\\n   \"16 GB\",\\n   \"32 GB\",\\n   \"64 GB\"\\n  ]\\n },\\n {\\n  \"question\": \"What is the processor speed?\",\\n  \"options\": [\\n   \"2.5 GHz\",\\n   \"3.0 GHz\",\\n   \"2.0 GHz\",\\n   \"1.5 GHz\",\\n   \"1.0 GHz\"\\n  ]\\n }\\n]\\n```'}"
      ]
     },
     "execution_count": 2,
     "metadata": {},
     "output_type": "execute_result"
    }
   ],
   "source": [
    "product = \"laptop\"\n",
    "n = 3\n",
    "\n",
    "features = ask_feature({\"product\": product, \"n_top\": n})\n",
    "features"
   ]
  },
  {
   "cell_type": "code",
   "execution_count": 3,
   "id": "62fd059d-cc33-486f-8008-94cef8276cc6",
   "metadata": {},
   "outputs": [
    {
     "data": {
      "text/plain": [
       "{'product': 'laptop',\n",
       " 'n_top': 3,\n",
       " 'result': '\\n\\n```json\\n[\\n {\\n  \"question\": \"How often does the laptop freeze or crash?\",\\n  \"options\": [\\n   \"Never\",\\n   \"Sometimes\",\\n   \"Often\"\\n  ]\\n },\\n {\\n  \"question\": \"How many keys are missing on the keyboard?\",\\n  \"options\": [\\n   \"None\",\\n   \"1-2\",\\n   \"3-4\",\\n   \"5+\"\\n  ]\\n },\\n {\\n  \"question\": \"How many scratches or dents are present on the screen?\",\\n  \"options\": [\\n   \"None\",\\n   \"1-2\",\\n   \"3-4\",\\n   \"5+\"\\n  ]\\n }\\n]\\n\\n```'}"
      ]
     },
     "execution_count": 3,
     "metadata": {},
     "output_type": "execute_result"
    }
   ],
   "source": [
    "conditions = ask_condition({\"product\": product, \"n_top\": n})\n",
    "conditions"
   ]
  },
  {
   "cell_type": "markdown",
   "id": "1cdfc273-66d6-4c77-b94d-6d9b0e1009af",
   "metadata": {},
   "source": [
    "# Test"
   ]
  },
  {
   "cell_type": "code",
   "execution_count": 8,
   "id": "457582ef-2a6d-4c0f-bd6e-959ca98288f9",
   "metadata": {},
   "outputs": [],
   "source": [
    "from botcore.utils.json_parser import parse_nested_json\n",
    "\n",
    "feats = parse_nested_json(features['result'])\n",
    "conds = parse_nested_json(conditions['result'])\n"
   ]
  },
  {
   "cell_type": "code",
   "execution_count": null,
   "id": "7ddf3e7a-171a-4819-9168-d20226549973",
   "metadata": {},
   "outputs": [],
   "source": [
    "from langchain.chains import ConversationChain\n",
    "from langchain.memory import ConversationBufferMemory\n",
    "\n"
   ]
  }
 ],
 "metadata": {
  "kernelspec": {
   "display_name": "Python 3 (ipykernel)",
   "language": "python",
   "name": "python3"
  },
  "language_info": {
   "codemirror_mode": {
    "name": "ipython",
    "version": 3
   },
   "file_extension": ".py",
   "mimetype": "text/x-python",
   "name": "python",
   "nbconvert_exporter": "python",
   "pygments_lexer": "ipython3",
   "version": "3.10.6"
  }
 },
 "nbformat": 4,
 "nbformat_minor": 5
}
