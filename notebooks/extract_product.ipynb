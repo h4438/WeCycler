{
 "cells": [
  {
   "cell_type": "markdown",
   "id": "b79b0603-76e2-4932-b4c5-938a3b96a56b",
   "metadata": {},
   "source": [
    "# Extract product chain"
   ]
  },
  {
   "cell_type": "code",
   "execution_count": 12,
   "id": "03ae35a0-d38c-4a02-91e0-a662fa976077",
   "metadata": {},
   "outputs": [],
   "source": [
    "# import sys\n",
    "sys.path.append('../')\n",
    "from botcore.setup import trace_ai21\n",
    "from langchain.chains import LLMChain\n",
    "from langchain.prompts import PromptTemplate\n",
    "\n",
    "TEMPLATE = \"\"\"Given the question: {question}.\n",
    "What is the product mentioned in the given question?\n",
    "Answer the product name:\"\"\"\n",
    "\n",
    "prompt = PromptTemplate(input_variables=[\"question\"], template=TEMPLATE)\n",
    "chain = LLMChain(llm=MODEL, prompt=prompt)"
   ]
  },
  {
   "cell_type": "code",
   "execution_count": 14,
   "id": "976701a4-5245-4132-b1ac-d40e748fcf13",
   "metadata": {},
   "outputs": [],
   "source": [
    "ans = chain.run(\"I have a new laptop\")"
   ]
  },
  {
   "cell_type": "code",
   "execution_count": 15,
   "id": "ca806ac8-9453-4822-8fcb-d7e6add64db0",
   "metadata": {},
   "outputs": [
    {
     "data": {
      "text/plain": [
       "'\\nlaptop'"
      ]
     },
     "execution_count": 15,
     "metadata": {},
     "output_type": "execute_result"
    }
   ],
   "source": [
    "ans"
   ]
  }
 ],
 "metadata": {
  "kernelspec": {
   "display_name": "Python 3 (ipykernel)",
   "language": "python",
   "name": "python3"
  },
  "language_info": {
   "codemirror_mode": {
    "name": "ipython",
    "version": 3
   },
   "file_extension": ".py",
   "mimetype": "text/x-python",
   "name": "python",
   "nbconvert_exporter": "python",
   "pygments_lexer": "ipython3",
   "version": "3.10.6"
  }
 },
 "nbformat": 4,
 "nbformat_minor": 5
}
