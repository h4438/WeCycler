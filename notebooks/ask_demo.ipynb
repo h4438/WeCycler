{
 "cells": [
  {
   "cell_type": "markdown",
   "id": "5b59914d-a0e4-4a41-9940-4c1df9310d9e",
   "metadata": {},
   "source": [
    "# Asking user full demo\n",
    "1. ask product feature\n",
    "2. ask product condition\n",
    "3. "
   ]
  },
  {
   "cell_type": "code",
   "execution_count": 1,
   "id": "cdabc20d-a0f7-4f55-89a4-c96ca18328db",
   "metadata": {},
   "outputs": [
    {
     "name": "stdout",
     "output_type": "stream",
     "text": [
      "AI21 ready\n",
      "Enable tracing at ask_demo\n"
     ]
    },
    {
     "data": {
      "text/plain": [
       "True"
      ]
     },
     "execution_count": 1,
     "metadata": {},
     "output_type": "execute_result"
    }
   ],
   "source": [
    "import sys\n",
    "sys.path.append('../')\n",
    "from botcore.setup import get_ai21_model, enable_tracing\n",
    "\n",
    "MODEL = get_ai21_model(max_tokens = 400)\n",
    "enable_tracing(\"ask_demo\")"
   ]
  },
  {
   "cell_type": "code",
   "execution_count": 2,
   "id": "05dd33ff-256a-42fd-aede-5f8d79f2b833",
   "metadata": {},
   "outputs": [],
   "source": [
    "from botcore.chains.ask_feature import build_ask_feature_chain\n",
    "from botcore.chains.ask_condition import build_ask_condition_chain\n",
    "\n",
    "ask_feature = build_ask_feature_chain(MODEL)\n",
    "ask_condition = build_ask_condition_chain(MODEL)\n"
   ]
  },
  {
   "cell_type": "markdown",
   "id": "23169c11-fdc0-4b15-819e-03ae9bbc4291",
   "metadata": {},
   "source": [
    "# RUN"
   ]
  },
  {
   "cell_type": "code",
   "execution_count": 3,
   "id": "b2eb05cf-a984-416a-ace3-594fc3e597a6",
   "metadata": {},
   "outputs": [
    {
     "data": {
      "text/plain": [
       "{'product': 'washing machine',\n",
       " 'n_top': 5,\n",
       " 'result': '\\n\\n```json\\n[\\n {\\n  \"question\": \"What is the washing capacity of the machine?\",\\n  \"options\": [\\n   \"8 kg\",\\n   \"10 kg\",\\n   \"12 kg\",\\n   \"14 kg\"\\n  ]\\n },\\n {\\n  \"question\": \"What is the spin speed?\",\\n  \"options\": [\\n   \"1000 rpm\",\\n   \"1200 rpm\",\\n   \"1400 rpm\",\\n   \"1600 rpm\"\\n  ]\\n },\\n {\\n  \"question\": \"What is the energy efficiency rating?\",\\n  \"options\": [\\n   \"A+++\",\\n   \"A++\",\\n   \"A+\",\\n   \"A\"\\n  ]\\n },\\n {\\n  \"question\": \"What is the noise level?\",\\n  \"options\": [\\n   \"50 dB\",\\n   \"60 dB\",\\n   \"70 dB\",\\n   \"80 dB\"\\n  ]\\n },\\n {\\n  \"question\": \"What is the warranty?\",\\n  \"options\": [\\n   \"1 year\",\\n   \"2 years\",\\n   \"3 years\",\\n   \"4 years\"\\n  ]\\n }\\n]\\n\\n```'}"
      ]
     },
     "execution_count": 3,
     "metadata": {},
     "output_type": "execute_result"
    }
   ],
   "source": [
    "product = \"washing machine\"\n",
    "features = ask_feature({\"product\": product, \"n_top\": 5})\n",
    "features"
   ]
  },
  {
   "cell_type": "code",
   "execution_count": 4,
   "id": "99d91366-ff43-47d2-af46-ebb80f9aa75f",
   "metadata": {},
   "outputs": [
    {
     "data": {
      "text/plain": [
       "{'product': 'washing machine',\n",
       " 'n_top': 5,\n",
       " 'result': '\\n\\n```json\\n[\\n {\\n  \"question\": \"Is the washing machine working properly?\",\\n  \"options\": [\\n   \"Yes\",\\n   \"No\"\\n  ]\\n },\\n {\\n  \"question\": \"What is the current condition of the washing machine?\",\\n  \"options\": [\\n   \"Excellent\",\\n   \"Good\",\\n   \"Fair\",\\n   \"Poor\"\\n  ]\\n }\\n]\\n\\n```'}"
      ]
     },
     "execution_count": 4,
     "metadata": {},
     "output_type": "execute_result"
    }
   ],
   "source": [
    "conditions = ask_condition({\"product\": product, \"n_top\": 5})\n",
    "conditions"
   ]
  }
 ],
 "metadata": {
  "kernelspec": {
   "display_name": "Python 3 (ipykernel)",
   "language": "python",
   "name": "python3"
  },
  "language_info": {
   "codemirror_mode": {
    "name": "ipython",
    "version": 3
   },
   "file_extension": ".py",
   "mimetype": "text/x-python",
   "name": "python",
   "nbconvert_exporter": "python",
   "pygments_lexer": "ipython3",
   "version": "3.10.6"
  }
 },
 "nbformat": 4,
 "nbformat_minor": 5
}
