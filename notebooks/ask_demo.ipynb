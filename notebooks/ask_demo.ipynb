{
 "cells": [
  {
   "cell_type": "markdown",
   "id": "5b59914d-a0e4-4a41-9940-4c1df9310d9e",
   "metadata": {},
   "source": [
    "# Asking user full demo\n",
    "1. ask product feature\n",
    "2. ask product condition\n",
    "3. "
   ]
  },
  {
   "cell_type": "code",
   "execution_count": 2,
   "id": "cdabc20d-a0f7-4f55-89a4-c96ca18328db",
   "metadata": {},
   "outputs": [
    {
     "name": "stdout",
     "output_type": "stream",
     "text": [
      "AI21 ready\n",
      "Enable tracing at ask_demo\n"
     ]
    }
   ],
   "source": [
    "import sys\n",
    "sys.path.append('../')\n",
    "from botcore.setup import get_ai21_model, enable_tracing\n",
    "\n",
    "MODEL = get_ai21_model(max_tokens = 400)\n",
    "enable_tracing(\"ask_demo\")\n",
    "\n",
    "from botcore.chains.qa_feature import build_ask_feature_chain\n",
    "from botcore.chains.qa_condition import build_ask_condition_chain\n",
    "\n",
    "ask_feature = build_ask_feature_chain(MODEL)\n",
    "ask_condition = build_ask_condition_chain(MODEL)"
   ]
  },
  {
   "cell_type": "markdown",
   "id": "23169c11-fdc0-4b15-819e-03ae9bbc4291",
   "metadata": {},
   "source": [
    "# RUN"
   ]
  },
  {
   "cell_type": "code",
   "execution_count": 3,
   "id": "b2eb05cf-a984-416a-ace3-594fc3e597a6",
   "metadata": {},
   "outputs": [],
   "source": [
    "product = \"washing machine\"\n",
    "n = 4\n",
    "\n",
    "# features = ask_feature({\"product\": product, \"n_top\": n})\n",
    "# features"
   ]
  },
  {
   "cell_type": "code",
   "execution_count": 4,
   "id": "99d91366-ff43-47d2-af46-ebb80f9aa75f",
   "metadata": {},
   "outputs": [
    {
     "data": {
      "text/plain": [
       "{'product': 'washing machine',\n",
       " 'n_top': 4,\n",
       " 'result': '\\n\\n```\\n[\\n  {\\n    \"question\": \"Has the washing machine ever broken down?\",\\n    \"options\": [\\n      \"yes\",\\n      \"no\"\\n    ]\\n  },\\n  {\\n    \"question\": \"What is the current physical condition of the washing machine?\",\\n    \"options\": [\\n      \"excellent\",\\n      \"good\",\\n      \"fair\",\\n      \"poor\"\\n    ]\\n  },\\n  {\\n    \"question\": \"Does the washing machine have a warranty?\",\\n    \"options\": [\\n      \"yes\",\\n      \"no\"\\n    ]\\n  },\\n  {\\n    \"question\": \"If the washing machine has a warranty, what is the warranty period?\",\\n    \"options\": [\\n      \"1 year\",\\n      \"2 years\",\\n      \"3 years\",\\n      \"4 years\",\\n      \"5 years\"\\n    ]\\n  }\\n]\\n\\n```'}"
      ]
     },
     "execution_count": 4,
     "metadata": {},
     "output_type": "execute_result"
    }
   ],
   "source": [
    "conditions = ask_condition({\"product\": product, \"n_top\": n})\n",
    "conditions"
   ]
  }
 ],
 "metadata": {
  "kernelspec": {
   "display_name": "Python 3 (ipykernel)",
   "language": "python",
   "name": "python3"
  },
  "language_info": {
   "codemirror_mode": {
    "name": "ipython",
    "version": 3
   },
   "file_extension": ".py",
   "mimetype": "text/x-python",
   "name": "python",
   "nbconvert_exporter": "python",
   "pygments_lexer": "ipython3",
   "version": "3.10.6"
  }
 },
 "nbformat": 4,
 "nbformat_minor": 5
}
