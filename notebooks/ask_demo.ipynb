{
 "cells": [
  {
   "cell_type": "markdown",
   "id": "5b59914d-a0e4-4a41-9940-4c1df9310d9e",
   "metadata": {},
   "source": [
    "# Asking user full demo\n",
    "1. ask product feature\n",
    "2. ask product condition\n",
    "3. "
   ]
  },
  {
   "cell_type": "code",
   "execution_count": 2,
   "id": "cdabc20d-a0f7-4f55-89a4-c96ca18328db",
   "metadata": {},
   "outputs": [
    {
     "name": "stdout",
     "output_type": "stream",
     "text": [
      "AI21 ready\n",
      "Enable tracing at ask_demo\n"
     ]
    }
   ],
   "source": [
    "import sys\n",
    "sys.path.append('../')\n",
    "from botcore.setup import get_ai21_model, enable_tracing\n",
    "\n",
    "MODEL = get_ai21_model(max_tokens = 400)\n",
    "enable_tracing(\"ask_demo\")\n",
    "\n",
    "from botcore.chains.ask_feature import build_ask_feature_chain\n",
    "from botcore.chains.ask_condition import build_ask_condition_chain\n",
    "\n",
    "ask_feature = build_ask_feature_chain(MODEL)\n",
    "ask_condition = build_ask_condition_chain(MODEL)"
   ]
  },
  {
   "cell_type": "markdown",
   "id": "23169c11-fdc0-4b15-819e-03ae9bbc4291",
   "metadata": {},
   "source": [
    "# RUN"
   ]
  },
  {
   "cell_type": "code",
   "execution_count": 3,
   "id": "b2eb05cf-a984-416a-ace3-594fc3e597a6",
   "metadata": {},
   "outputs": [
    {
     "data": {
      "text/plain": [
       "{'product': 'washing machine',\n",
       " 'n_top': 5,\n",
       " 'result': '\\n\\n```\\n[\\n {\\n  \"question\": \"How much water does it use per cycle?\",\\n  \"options\": [\\n   \"Less than 10 litres\",\\n   \"10-20 litres\",\\n   \"20-30 litres\",\\n   \"30-40 litres\",\\n   \"More than 40 litres\"\\n  ]\\n },\\n {\\n  \"question\": \"How many cycles does it have?\",\\n  \"options\": [\\n   \"Less than 10\",\\n   \"10-20\",\\n   \"20-30\",\\n   \"30-40\",\\n   \"More than 40\"\\n  ]\\n },\\n {\\n  \"question\": \"How many wash programs does it have?\",\\n  \"options\": [\\n   \"Less than 10\",\\n   \"10-20\",\\n   \"20-30\",\\n   \"30-40\",\\n   \"More than 40\"\\n  ]\\n },\\n {\\n  \"question\": \"How much does it cost?\",\\n  \"options\": [\\n   \"Less than $100\",\\n   \"$100-200\",\\n   \"$200-300\",\\n   \"$300-400\",\\n   \"More than $400\"\\n  ]\\n },\\n {\\n  \"question\": \"How much does it weigh?\",\\n  \"options\": [\\n   \"Less than 50 kg\",\\n   \"50-100 kg\",\\n   \"100-150 kg\",\\n   \"150-200 kg\",\\n   \"More than 200 kg\"\\n  ]\\n }\\n]\\n\\n```'}"
      ]
     },
     "execution_count": 3,
     "metadata": {},
     "output_type": "execute_result"
    }
   ],
   "source": [
    "product = \"washing machine\"\n",
    "features = ask_feature({\"product\": product, \"n_top\": 5})\n",
    "features"
   ]
  },
  {
   "cell_type": "code",
   "execution_count": 4,
   "id": "99d91366-ff43-47d2-af46-ebb80f9aa75f",
   "metadata": {},
   "outputs": [
    {
     "data": {
      "text/plain": [
       "{'product': 'washing machine',\n",
       " 'n_top': 5,\n",
       " 'result': '\\n\\n```\\n{\\n \"questions\": [\\n  {\\n   \"question\": \"Is the washing machine functioning well?\",\\n   \"options\": [\\n    \"Yes\",\\n    \"No\"\\n   ]\\n  },\\n  {\\n   \"question\": \"How old is the washing machine?\",\\n   \"options\": [\\n    \"Less than 1 year\",\\n    \"1-5 years\",\\n    \"More than 5 years\"\\n   ]\\n  },\\n  {\\n   \"question\": \"How often do you use the washing machine?\",\\n   \"options\": [\\n    \"Daily\",\\n    \"Weekly\",\\n    \"Monthly\",\\n    \"Less than once a month\"\\n   ]\\n  },\\n  {\\n   \"question\": \"Have you had any problems with the washing machine?\",\\n   \"options\": [\\n    \"Yes\",\\n    \"No\"\\n   ]\\n  },\\n  {\\n   \"question\": \"Have you had to make any repairs to the washing machine?\",\\n   \"options\": [\\n    \"Yes\",\\n    \"No\"\\n   ]\\n  }\\n ]\\n}\\n\\n```'}"
      ]
     },
     "execution_count": 4,
     "metadata": {},
     "output_type": "execute_result"
    }
   ],
   "source": [
    "conditions = ask_condition({\"product\": product, \"n_top\": 5})\n",
    "conditions"
   ]
  }
 ],
 "metadata": {
  "kernelspec": {
   "display_name": "Python 3 (ipykernel)",
   "language": "python",
   "name": "python3"
  },
  "language_info": {
   "codemirror_mode": {
    "name": "ipython",
    "version": 3
   },
   "file_extension": ".py",
   "mimetype": "text/x-python",
   "name": "python",
   "nbconvert_exporter": "python",
   "pygments_lexer": "ipython3",
   "version": "3.10.6"
  }
 },
 "nbformat": 4,
 "nbformat_minor": 5
}
