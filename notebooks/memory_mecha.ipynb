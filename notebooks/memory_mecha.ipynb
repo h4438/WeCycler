{
 "cells": [
  {
   "cell_type": "markdown",
   "id": "686c08d1-6373-4ebf-b446-2f75e2a295e3",
   "metadata": {},
   "source": [
    "# Memory mechanism\n",
    "\n",
    "Testing on electronics only\n",
    "\n",
    "Its job:\n",
    "1. push data to it\n",
    "2. push it to a chain\n",
    "3. ask the chain to summarize"
   ]
  },
  {
   "cell_type": "code",
   "execution_count": 5,
   "id": "e805f25d-c884-490c-83d5-5e833c2f8a95",
   "metadata": {},
   "outputs": [
    {
     "name": "stdout",
     "output_type": "stream",
     "text": [
      "AI21 ready\n",
      "Enable tracing at mem_mecha\n"
     ]
    }
   ],
   "source": [
    "import sys\n",
    "sys.path.append('../')\n",
    "from botcore.setup import get_ai21_model, enable_tracing\n",
    "from botcore.chains.qa_feature import build_ask_feature_chain\n",
    "from botcore.chains.qa_elec_condition import build_ask_electronic_condition_chain\n",
    "\n",
    "MODEL = get_ai21_model(max_tokens = 400)\n",
    "enable_tracing(\"mem_mecha\")\n",
    "\n",
    "ask_feature = build_ask_feature_chain(MODEL)\n",
    "ask_condition = build_ask_electronic_condition_chain(MODEL)"
   ]
  },
  {
   "cell_type": "code",
   "execution_count": 6,
   "id": "1ce14064-bcae-47b0-ac1d-526942de8983",
   "metadata": {},
   "outputs": [
    {
     "data": {
      "text/plain": [
       "{'product': 'laptop',\n",
       " 'n_top': 3,\n",
       " 'result': '\\n\\n```json\\n[\\n {\\n  \"question\": \"What is the screen size?\",\\n  \"options\": [\\n   \"14 inch\",\\n   \"15.6 inch\",\\n   \"13.3 inch\",\\n   \"17.3 inch\",\\n   \"11.6 inch\"\\n  ]\\n },\\n {\\n  \"question\": \"What is the RAM size?\",\\n  \"options\": [\\n   \"4 GB\",\\n   \"8 GB\",\\n   \"16 GB\",\\n   \"32 GB\",\\n   \"64 GB\"\\n  ]\\n },\\n {\\n  \"question\": \"What is the processor speed?\",\\n  \"options\": [\\n   \"2.5 GHz\",\\n   \"3.0 GHz\",\\n   \"2.0 GHz\",\\n   \"1.5 GHz\",\\n   \"1.0 GHz\"\\n  ]\\n }\\n]\\n```'}"
      ]
     },
     "execution_count": 6,
     "metadata": {},
     "output_type": "execute_result"
    }
   ],
   "source": [
    "product = \"laptop\"\n",
    "n = 3\n",
    "\n",
    "features = ask_feature({\"product\": product, \"n_top\": n})\n",
    "features"
   ]
  },
  {
   "cell_type": "code",
   "execution_count": 7,
   "id": "62fd059d-cc33-486f-8008-94cef8276cc6",
   "metadata": {},
   "outputs": [
    {
     "data": {
      "text/plain": [
       "{'product': 'laptop',\n",
       " 'n_top': 3,\n",
       " 'result': '\\n\\n```json\\n[\\n  {\\n    \"question\": \"What are the noticeable malfunctions?\",\\n    \"options\": [\\n      \"The laptop does not power on.\",\\n      \"The laptop is very slow.\",\\n      \"The laptop has missing keys.\"\\n    ]\\n  },\\n  {\\n    \"question\": \"What are the physical damages?\",\\n    \"options\": [\\n      \"The laptop is cracked.\",\\n      \"The laptop is dented.\",\\n      \"The laptop is scratched.\"\\n    ]\\n  },\\n  {\\n    \"question\": \"Is the warranty valid?\",\\n    \"options\": [\\n      \"Yes, the warranty is valid.\",\\n      \"No, the warranty is invalid.\",\\n      \"I am not sure.\"\\n    ]\\n  }\\n]\\n\\n```'}"
      ]
     },
     "execution_count": 7,
     "metadata": {},
     "output_type": "execute_result"
    }
   ],
   "source": [
    "conditions = ask_condition({\"product\": product, \"n_top\": n})\n",
    "conditions"
   ]
  },
  {
   "cell_type": "markdown",
   "id": "1cdfc273-66d6-4c77-b94d-6d9b0e1009af",
   "metadata": {},
   "source": [
    "# Test"
   ]
  },
  {
   "cell_type": "code",
   "execution_count": 33,
   "id": "457582ef-2a6d-4c0f-bd6e-959ca98288f9",
   "metadata": {},
   "outputs": [
    {
     "name": "stdout",
     "output_type": "stream",
     "text": [
      "['What are the noticeable malfunctions?', 'What are the physical damages?', 'Is the warranty valid?']\n"
     ]
    }
   ],
   "source": [
    "from botcore.utils.json_parser import parse_nested_json\n",
    "\n",
    "feats = parse_nested_json(features['result'])\n",
    "conds = parse_nested_json(conditions['result'])\n",
    "\n",
    "def get_sample_qa(feats):\n",
    "    ques_feat = [f['question'] for f in feats]\n",
    "    ans_feat = [f['options'][0] for f in feats]\n",
    "    return ques_feat, ans_feat\n",
    "\n",
    "ques_feat, ans_feat = get_sample_qa(feats)\n",
    "ques_cond, ans_cond = get_sample_qa(conds)\n",
    "print(ques_cond)"
   ]
  },
  {
   "cell_type": "code",
   "execution_count": 34,
   "id": "7ddf3e7a-171a-4819-9168-d20226549973",
   "metadata": {},
   "outputs": [],
   "source": [
    "from langchain.memory import ConversationBufferMemory\n",
    "from langchain import OpenAI, LLMChain, PromptTemplate\n",
    "\n",
    "def load_to_memory(ques_list, ans_list):\n",
    "    for q, a in zip(ques_list, ans_list):\n",
    "        memory.chat_memory.add_ai_message(q)\n",
    "        memory.chat_memory.add_user_message(a)\n",
    "    return True\n",
    "\n",
    "\n",
    "template = \"\"\"You are a secondhand dealer and having a conversation with a customer.\n",
    "\n",
    "{chat_history}\n",
    "Human: {human_input}\n",
    "Answer:\"\"\"\n",
    "\n",
    "prompt = PromptTemplate(\n",
    "    input_variables=[\"chat_history\", \"human_input\"], template=template\n",
    ")\n",
    "memory = ConversationBufferMemory(memory_key=\"chat_history\")\n",
    "memory.chat_memory.add_user_message(f\"I have this used {product} of mine. Please ask me some questions about it.\")\n",
    "load_to_memory(ques_feat, ans_feat)\n",
    "load_to_memory(ques_cond, ans_cond)\n",
    "talk_chain = LLMChain(llm=MODEL, prompt=prompt, verbose=True, memory=memory)"
   ]
  },
  {
   "cell_type": "code",
   "execution_count": 37,
   "id": "3d12b009-6a55-4284-b49b-bee028ddadf4",
   "metadata": {},
   "outputs": [
    {
     "name": "stdout",
     "output_type": "stream",
     "text": [
      "\n",
      "\n",
      "\u001b[1m> Entering new  chain...\u001b[0m\n",
      "Prompt after formatting:\n",
      "\u001b[32;1m\u001b[1;3mYou are a secondhand dealer and having a conversation with a customer.\n",
      "\n",
      "Human: I have this used laptop of mine. Please ask me some questions about it.\n",
      "AI: What is the screen size?\n",
      "Human: 14 inch\n",
      "AI: What is the RAM size?\n",
      "Human: 4 GB\n",
      "AI: What is the processor speed?\n",
      "Human: 2.5 GHz\n",
      "AI: What are the noticeable malfunctions?\n",
      "Human: The laptop does not power on.\n",
      "AI: What are the physical damages?\n",
      "Human: The laptop is cracked.\n",
      "AI: Is the warranty valid?\n",
      "Human: Yes, the warranty is valid.\n",
      "Human: Do you think that my laptop will be able to sell at a good price?\n",
      "AI: \n",
      "The laptop's screen size is 14 inches, the RAM size is 4 GB, the processor speed is 2.5 GHz, and it does not power on. The laptop is cracked, and the warranty is valid. The laptop may be able to sell, but at a lower price due to its malfunctions and damages.\n",
      "Human: What is my product?\n",
      "Answer:\u001b[0m\n",
      "\n",
      "\u001b[1m> Finished chain.\u001b[0m\n"
     ]
    },
    {
     "data": {
      "text/plain": [
       "{'human_input': 'What is my product?',\n",
       " 'chat_history': \"Human: I have this used laptop of mine. Please ask me some questions about it.\\nAI: What is the screen size?\\nHuman: 14 inch\\nAI: What is the RAM size?\\nHuman: 4 GB\\nAI: What is the processor speed?\\nHuman: 2.5 GHz\\nAI: What are the noticeable malfunctions?\\nHuman: The laptop does not power on.\\nAI: What are the physical damages?\\nHuman: The laptop is cracked.\\nAI: Is the warranty valid?\\nHuman: Yes, the warranty is valid.\\nHuman: Do you think that my laptop will be able to sell at a good price?\\nAI: \\nThe laptop's screen size is 14 inches, the RAM size is 4 GB, the processor speed is 2.5 GHz, and it does not power on. The laptop is cracked, and the warranty is valid. The laptop may be able to sell, but at a lower price due to its malfunctions and damages.\",\n",
       " 'text': ' A used laptop'}"
      ]
     },
     "execution_count": 37,
     "metadata": {},
     "output_type": "execute_result"
    }
   ],
   "source": [
    "# memory.chat_memory.messages\n",
    "ans = talk_chain({\"human_input\": \"What is my product?\"})\n",
    "ans"
   ]
  }
 ],
 "metadata": {
  "kernelspec": {
   "display_name": "Python 3 (ipykernel)",
   "language": "python",
   "name": "python3"
  },
  "language_info": {
   "codemirror_mode": {
    "name": "ipython",
    "version": 3
   },
   "file_extension": ".py",
   "mimetype": "text/x-python",
   "name": "python",
   "nbconvert_exporter": "python",
   "pygments_lexer": "ipython3",
   "version": "3.10.6"
  }
 },
 "nbformat": 4,
 "nbformat_minor": 5
}
